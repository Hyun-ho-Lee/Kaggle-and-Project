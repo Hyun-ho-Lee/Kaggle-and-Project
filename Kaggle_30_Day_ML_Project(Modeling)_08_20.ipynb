{
  "nbformat": 4,
  "nbformat_minor": 0,
  "metadata": {
    "colab": {
      "name": "Kaggle 30 Day ML Project(Modeling)  08 20.ipynb",
      "provenance": [],
      "collapsed_sections": [],
      "authorship_tag": "ABX9TyP83P1L+q2LkdgbrvZZlG8n",
      "include_colab_link": true
    },
    "kernelspec": {
      "name": "python3",
      "display_name": "Python 3"
    },
    "language_info": {
      "name": "python"
    },
    "accelerator": "GPU"
  },
  "cells": [
    {
      "cell_type": "markdown",
      "metadata": {
        "id": "view-in-github",
        "colab_type": "text"
      },
      "source": [
        "<a href=\"https://colab.research.google.com/github/Hyun-ho-Lee/Kaggle-and-Project/blob/master/Kaggle_30_Day_ML_Project(Modeling)_08_20.ipynb\" target=\"_parent\"><img src=\"https://colab.research.google.com/assets/colab-badge.svg\" alt=\"Open In Colab\"/></a>"
      ]
    },
    {
      "cell_type": "code",
      "metadata": {
        "colab": {
          "base_uri": "https://localhost:8080/"
        },
        "id": "mBLN5YBW6ZrK",
        "outputId": "2fa67bbb-1206-4eb3-e1c0-7b984aae7004"
      },
      "source": [
        "import os \n",
        "from google.colab import drive\n",
        "drive.mount('/content/drvie')\n",
        "import pandas as pd\n",
        "\n",
        "train = pd.read_csv(\"/content/drvie/MyDrive/30_train.csv\")\n",
        "test = pd.read_csv(\"/content/drvie/MyDrive/30_test.csv\")\n",
        "sub = pd.read_csv(\"/content/drvie/MyDrive/30_sample_submission.csv\")"
      ],
      "execution_count": 8,
      "outputs": [
        {
          "output_type": "stream",
          "text": [
            "Drive already mounted at /content/drvie; to attempt to forcibly remount, call drive.mount(\"/content/drvie\", force_remount=True).\n"
          ],
          "name": "stdout"
        }
      ]
    },
    {
      "cell_type": "code",
      "metadata": {
        "id": "sdmip7lI8yzP"
      },
      "source": [
        "import pandas as pd\n",
        "import numpy as np\n",
        "import seaborn as sns\n",
        "from sklearn.model_selection import GridSearchCV, train_test_split\n",
        "from xgboost import XGBRegressor\n",
        "import random\n",
        "from sklearn.model_selection import KFold\n",
        "from sklearn.metrics import mean_squared_error\n",
        "import matplotlib.pyplot as plt\n",
        "import matplotlib\n",
        "import warnings\n",
        "warnings.filterwarnings('ignore')"
      ],
      "execution_count": 2,
      "outputs": []
    },
    {
      "cell_type": "code",
      "metadata": {
        "id": "IVBAg5vsbOr-"
      },
      "source": [
        "y = train.target\n",
        "train.drop(['target', 'id'], axis = 1, inplace = True)\n",
        "test.drop(['id'], axis = 1, inplace = True)"
      ],
      "execution_count": 3,
      "outputs": []
    },
    {
      "cell_type": "code",
      "metadata": {
        "colab": {
          "base_uri": "https://localhost:8080/",
          "height": 204
        },
        "id": "UB5uMX-E7Ooo",
        "outputId": "21664e04-1e30-44ad-984d-08b37830d700"
      },
      "source": [
        "train.head()"
      ],
      "execution_count": null,
      "outputs": [
        {
          "output_type": "execute_result",
          "data": {
            "text/html": [
              "<div>\n",
              "<style scoped>\n",
              "    .dataframe tbody tr th:only-of-type {\n",
              "        vertical-align: middle;\n",
              "    }\n",
              "\n",
              "    .dataframe tbody tr th {\n",
              "        vertical-align: top;\n",
              "    }\n",
              "\n",
              "    .dataframe thead th {\n",
              "        text-align: right;\n",
              "    }\n",
              "</style>\n",
              "<table border=\"1\" class=\"dataframe\">\n",
              "  <thead>\n",
              "    <tr style=\"text-align: right;\">\n",
              "      <th></th>\n",
              "      <th>cat0</th>\n",
              "      <th>cat1</th>\n",
              "      <th>cat2</th>\n",
              "      <th>cat3</th>\n",
              "      <th>cat4</th>\n",
              "      <th>cat5</th>\n",
              "      <th>cat6</th>\n",
              "      <th>cat7</th>\n",
              "      <th>cat8</th>\n",
              "      <th>cat9</th>\n",
              "      <th>cont0</th>\n",
              "      <th>cont1</th>\n",
              "      <th>cont2</th>\n",
              "      <th>cont3</th>\n",
              "      <th>cont4</th>\n",
              "      <th>cont5</th>\n",
              "      <th>cont6</th>\n",
              "      <th>cont7</th>\n",
              "      <th>cont8</th>\n",
              "      <th>cont9</th>\n",
              "      <th>cont10</th>\n",
              "      <th>cont11</th>\n",
              "      <th>cont12</th>\n",
              "      <th>cont13</th>\n",
              "    </tr>\n",
              "  </thead>\n",
              "  <tbody>\n",
              "    <tr>\n",
              "      <th>0</th>\n",
              "      <td>B</td>\n",
              "      <td>B</td>\n",
              "      <td>B</td>\n",
              "      <td>C</td>\n",
              "      <td>B</td>\n",
              "      <td>B</td>\n",
              "      <td>A</td>\n",
              "      <td>E</td>\n",
              "      <td>C</td>\n",
              "      <td>N</td>\n",
              "      <td>0.201470</td>\n",
              "      <td>-0.014822</td>\n",
              "      <td>0.669699</td>\n",
              "      <td>0.136278</td>\n",
              "      <td>0.610706</td>\n",
              "      <td>0.400361</td>\n",
              "      <td>0.160266</td>\n",
              "      <td>0.310921</td>\n",
              "      <td>0.389470</td>\n",
              "      <td>0.267559</td>\n",
              "      <td>0.237281</td>\n",
              "      <td>0.377873</td>\n",
              "      <td>0.322401</td>\n",
              "      <td>0.869850</td>\n",
              "    </tr>\n",
              "    <tr>\n",
              "      <th>1</th>\n",
              "      <td>B</td>\n",
              "      <td>B</td>\n",
              "      <td>A</td>\n",
              "      <td>A</td>\n",
              "      <td>B</td>\n",
              "      <td>D</td>\n",
              "      <td>A</td>\n",
              "      <td>F</td>\n",
              "      <td>A</td>\n",
              "      <td>O</td>\n",
              "      <td>0.743068</td>\n",
              "      <td>0.367411</td>\n",
              "      <td>1.021605</td>\n",
              "      <td>0.365798</td>\n",
              "      <td>0.276853</td>\n",
              "      <td>0.533087</td>\n",
              "      <td>0.558922</td>\n",
              "      <td>0.516294</td>\n",
              "      <td>0.594928</td>\n",
              "      <td>0.341439</td>\n",
              "      <td>0.906013</td>\n",
              "      <td>0.921701</td>\n",
              "      <td>0.261975</td>\n",
              "      <td>0.465083</td>\n",
              "    </tr>\n",
              "    <tr>\n",
              "      <th>2</th>\n",
              "      <td>A</td>\n",
              "      <td>A</td>\n",
              "      <td>A</td>\n",
              "      <td>C</td>\n",
              "      <td>B</td>\n",
              "      <td>D</td>\n",
              "      <td>A</td>\n",
              "      <td>D</td>\n",
              "      <td>A</td>\n",
              "      <td>F</td>\n",
              "      <td>0.742708</td>\n",
              "      <td>0.310383</td>\n",
              "      <td>-0.012673</td>\n",
              "      <td>0.576957</td>\n",
              "      <td>0.285074</td>\n",
              "      <td>0.650609</td>\n",
              "      <td>0.375348</td>\n",
              "      <td>0.902567</td>\n",
              "      <td>0.555205</td>\n",
              "      <td>0.843531</td>\n",
              "      <td>0.748809</td>\n",
              "      <td>0.620126</td>\n",
              "      <td>0.541474</td>\n",
              "      <td>0.763846</td>\n",
              "    </tr>\n",
              "    <tr>\n",
              "      <th>3</th>\n",
              "      <td>B</td>\n",
              "      <td>B</td>\n",
              "      <td>A</td>\n",
              "      <td>C</td>\n",
              "      <td>B</td>\n",
              "      <td>D</td>\n",
              "      <td>A</td>\n",
              "      <td>E</td>\n",
              "      <td>C</td>\n",
              "      <td>K</td>\n",
              "      <td>0.429551</td>\n",
              "      <td>0.620998</td>\n",
              "      <td>0.577942</td>\n",
              "      <td>0.280610</td>\n",
              "      <td>0.284667</td>\n",
              "      <td>0.668980</td>\n",
              "      <td>0.239061</td>\n",
              "      <td>0.732948</td>\n",
              "      <td>0.679618</td>\n",
              "      <td>0.574844</td>\n",
              "      <td>0.346010</td>\n",
              "      <td>0.714610</td>\n",
              "      <td>0.540150</td>\n",
              "      <td>0.280682</td>\n",
              "    </tr>\n",
              "    <tr>\n",
              "      <th>4</th>\n",
              "      <td>A</td>\n",
              "      <td>A</td>\n",
              "      <td>A</td>\n",
              "      <td>C</td>\n",
              "      <td>B</td>\n",
              "      <td>D</td>\n",
              "      <td>A</td>\n",
              "      <td>E</td>\n",
              "      <td>A</td>\n",
              "      <td>N</td>\n",
              "      <td>1.058291</td>\n",
              "      <td>0.367492</td>\n",
              "      <td>-0.052389</td>\n",
              "      <td>0.232407</td>\n",
              "      <td>0.287595</td>\n",
              "      <td>0.686964</td>\n",
              "      <td>0.420667</td>\n",
              "      <td>0.648182</td>\n",
              "      <td>0.684501</td>\n",
              "      <td>0.956692</td>\n",
              "      <td>1.000773</td>\n",
              "      <td>0.776742</td>\n",
              "      <td>0.625849</td>\n",
              "      <td>0.250823</td>\n",
              "    </tr>\n",
              "  </tbody>\n",
              "</table>\n",
              "</div>"
            ],
            "text/plain": [
              "  cat0 cat1 cat2 cat3 cat4  ...     cont9    cont10    cont11    cont12    cont13\n",
              "0    B    B    B    C    B  ...  0.267559  0.237281  0.377873  0.322401  0.869850\n",
              "1    B    B    A    A    B  ...  0.341439  0.906013  0.921701  0.261975  0.465083\n",
              "2    A    A    A    C    B  ...  0.843531  0.748809  0.620126  0.541474  0.763846\n",
              "3    B    B    A    C    B  ...  0.574844  0.346010  0.714610  0.540150  0.280682\n",
              "4    A    A    A    C    B  ...  0.956692  1.000773  0.776742  0.625849  0.250823\n",
              "\n",
              "[5 rows x 24 columns]"
            ]
          },
          "metadata": {},
          "execution_count": 4
        }
      ]
    },
    {
      "cell_type": "code",
      "metadata": {
        "colab": {
          "base_uri": "https://localhost:8080/"
        },
        "id": "9cgJX3IC7qvH",
        "outputId": "014eeaf5-fbe0-41ba-96d6-1498a278234b"
      },
      "source": [
        "train.isnull().sum()"
      ],
      "execution_count": null,
      "outputs": [
        {
          "output_type": "execute_result",
          "data": {
            "text/plain": [
              "cat0      0\n",
              "cat1      0\n",
              "cat2      0\n",
              "cat3      0\n",
              "cat4      0\n",
              "cat5      0\n",
              "cat6      0\n",
              "cat7      0\n",
              "cat8      0\n",
              "cat9      0\n",
              "cont0     0\n",
              "cont1     0\n",
              "cont2     0\n",
              "cont3     0\n",
              "cont4     0\n",
              "cont5     0\n",
              "cont6     0\n",
              "cont7     0\n",
              "cont8     0\n",
              "cont9     0\n",
              "cont10    0\n",
              "cont11    0\n",
              "cont12    0\n",
              "cont13    0\n",
              "dtype: int64"
            ]
          },
          "metadata": {},
          "execution_count": 5
        }
      ]
    },
    {
      "cell_type": "code",
      "metadata": {
        "colab": {
          "base_uri": "https://localhost:8080/"
        },
        "id": "ziiXh_528NMU",
        "outputId": "8f1270a4-62aa-42c9-906f-11a88216c0d3"
      },
      "source": [
        "train.info()"
      ],
      "execution_count": null,
      "outputs": [
        {
          "output_type": "stream",
          "text": [
            "<class 'pandas.core.frame.DataFrame'>\n",
            "RangeIndex: 300000 entries, 0 to 299999\n",
            "Data columns (total 24 columns):\n",
            " #   Column  Non-Null Count   Dtype  \n",
            "---  ------  --------------   -----  \n",
            " 0   cat0    300000 non-null  object \n",
            " 1   cat1    300000 non-null  object \n",
            " 2   cat2    300000 non-null  object \n",
            " 3   cat3    300000 non-null  object \n",
            " 4   cat4    300000 non-null  object \n",
            " 5   cat5    300000 non-null  object \n",
            " 6   cat6    300000 non-null  object \n",
            " 7   cat7    300000 non-null  object \n",
            " 8   cat8    300000 non-null  object \n",
            " 9   cat9    300000 non-null  object \n",
            " 10  cont0   300000 non-null  float64\n",
            " 11  cont1   300000 non-null  float64\n",
            " 12  cont2   300000 non-null  float64\n",
            " 13  cont3   300000 non-null  float64\n",
            " 14  cont4   300000 non-null  float64\n",
            " 15  cont5   300000 non-null  float64\n",
            " 16  cont6   300000 non-null  float64\n",
            " 17  cont7   300000 non-null  float64\n",
            " 18  cont8   300000 non-null  float64\n",
            " 19  cont9   300000 non-null  float64\n",
            " 20  cont10  300000 non-null  float64\n",
            " 21  cont11  300000 non-null  float64\n",
            " 22  cont12  300000 non-null  float64\n",
            " 23  cont13  300000 non-null  float64\n",
            "dtypes: float64(14), object(10)\n",
            "memory usage: 54.9+ MB\n"
          ],
          "name": "stdout"
        }
      ]
    },
    {
      "cell_type": "code",
      "metadata": {
        "id": "rPJc4_ZL-19u"
      },
      "source": [
        "X=train.copy()"
      ],
      "execution_count": null,
      "outputs": []
    },
    {
      "cell_type": "code",
      "metadata": {
        "colab": {
          "base_uri": "https://localhost:8080/",
          "height": 419
        },
        "id": "ElksU8aa_C31",
        "outputId": "79ee8d6d-07bf-4d17-fa0b-4264b025527b"
      },
      "source": [
        "X"
      ],
      "execution_count": null,
      "outputs": [
        {
          "output_type": "execute_result",
          "data": {
            "text/html": [
              "<div>\n",
              "<style scoped>\n",
              "    .dataframe tbody tr th:only-of-type {\n",
              "        vertical-align: middle;\n",
              "    }\n",
              "\n",
              "    .dataframe tbody tr th {\n",
              "        vertical-align: top;\n",
              "    }\n",
              "\n",
              "    .dataframe thead th {\n",
              "        text-align: right;\n",
              "    }\n",
              "</style>\n",
              "<table border=\"1\" class=\"dataframe\">\n",
              "  <thead>\n",
              "    <tr style=\"text-align: right;\">\n",
              "      <th></th>\n",
              "      <th>cat0</th>\n",
              "      <th>cat1</th>\n",
              "      <th>cat2</th>\n",
              "      <th>cat3</th>\n",
              "      <th>cat4</th>\n",
              "      <th>cat5</th>\n",
              "      <th>cat6</th>\n",
              "      <th>cat7</th>\n",
              "      <th>cat8</th>\n",
              "      <th>cat9</th>\n",
              "      <th>cont0</th>\n",
              "      <th>cont1</th>\n",
              "      <th>cont2</th>\n",
              "      <th>cont3</th>\n",
              "      <th>cont4</th>\n",
              "      <th>cont5</th>\n",
              "      <th>cont6</th>\n",
              "      <th>cont7</th>\n",
              "      <th>cont8</th>\n",
              "      <th>cont9</th>\n",
              "      <th>cont10</th>\n",
              "      <th>cont11</th>\n",
              "      <th>cont12</th>\n",
              "      <th>cont13</th>\n",
              "    </tr>\n",
              "  </thead>\n",
              "  <tbody>\n",
              "    <tr>\n",
              "      <th>0</th>\n",
              "      <td>B</td>\n",
              "      <td>B</td>\n",
              "      <td>B</td>\n",
              "      <td>C</td>\n",
              "      <td>B</td>\n",
              "      <td>B</td>\n",
              "      <td>A</td>\n",
              "      <td>E</td>\n",
              "      <td>C</td>\n",
              "      <td>N</td>\n",
              "      <td>0.201470</td>\n",
              "      <td>-0.014822</td>\n",
              "      <td>0.669699</td>\n",
              "      <td>0.136278</td>\n",
              "      <td>0.610706</td>\n",
              "      <td>0.400361</td>\n",
              "      <td>0.160266</td>\n",
              "      <td>0.310921</td>\n",
              "      <td>0.389470</td>\n",
              "      <td>0.267559</td>\n",
              "      <td>0.237281</td>\n",
              "      <td>0.377873</td>\n",
              "      <td>0.322401</td>\n",
              "      <td>0.869850</td>\n",
              "    </tr>\n",
              "    <tr>\n",
              "      <th>1</th>\n",
              "      <td>B</td>\n",
              "      <td>B</td>\n",
              "      <td>A</td>\n",
              "      <td>A</td>\n",
              "      <td>B</td>\n",
              "      <td>D</td>\n",
              "      <td>A</td>\n",
              "      <td>F</td>\n",
              "      <td>A</td>\n",
              "      <td>O</td>\n",
              "      <td>0.743068</td>\n",
              "      <td>0.367411</td>\n",
              "      <td>1.021605</td>\n",
              "      <td>0.365798</td>\n",
              "      <td>0.276853</td>\n",
              "      <td>0.533087</td>\n",
              "      <td>0.558922</td>\n",
              "      <td>0.516294</td>\n",
              "      <td>0.594928</td>\n",
              "      <td>0.341439</td>\n",
              "      <td>0.906013</td>\n",
              "      <td>0.921701</td>\n",
              "      <td>0.261975</td>\n",
              "      <td>0.465083</td>\n",
              "    </tr>\n",
              "    <tr>\n",
              "      <th>2</th>\n",
              "      <td>A</td>\n",
              "      <td>A</td>\n",
              "      <td>A</td>\n",
              "      <td>C</td>\n",
              "      <td>B</td>\n",
              "      <td>D</td>\n",
              "      <td>A</td>\n",
              "      <td>D</td>\n",
              "      <td>A</td>\n",
              "      <td>F</td>\n",
              "      <td>0.742708</td>\n",
              "      <td>0.310383</td>\n",
              "      <td>-0.012673</td>\n",
              "      <td>0.576957</td>\n",
              "      <td>0.285074</td>\n",
              "      <td>0.650609</td>\n",
              "      <td>0.375348</td>\n",
              "      <td>0.902567</td>\n",
              "      <td>0.555205</td>\n",
              "      <td>0.843531</td>\n",
              "      <td>0.748809</td>\n",
              "      <td>0.620126</td>\n",
              "      <td>0.541474</td>\n",
              "      <td>0.763846</td>\n",
              "    </tr>\n",
              "    <tr>\n",
              "      <th>3</th>\n",
              "      <td>B</td>\n",
              "      <td>B</td>\n",
              "      <td>A</td>\n",
              "      <td>C</td>\n",
              "      <td>B</td>\n",
              "      <td>D</td>\n",
              "      <td>A</td>\n",
              "      <td>E</td>\n",
              "      <td>C</td>\n",
              "      <td>K</td>\n",
              "      <td>0.429551</td>\n",
              "      <td>0.620998</td>\n",
              "      <td>0.577942</td>\n",
              "      <td>0.280610</td>\n",
              "      <td>0.284667</td>\n",
              "      <td>0.668980</td>\n",
              "      <td>0.239061</td>\n",
              "      <td>0.732948</td>\n",
              "      <td>0.679618</td>\n",
              "      <td>0.574844</td>\n",
              "      <td>0.346010</td>\n",
              "      <td>0.714610</td>\n",
              "      <td>0.540150</td>\n",
              "      <td>0.280682</td>\n",
              "    </tr>\n",
              "    <tr>\n",
              "      <th>4</th>\n",
              "      <td>A</td>\n",
              "      <td>A</td>\n",
              "      <td>A</td>\n",
              "      <td>C</td>\n",
              "      <td>B</td>\n",
              "      <td>D</td>\n",
              "      <td>A</td>\n",
              "      <td>E</td>\n",
              "      <td>A</td>\n",
              "      <td>N</td>\n",
              "      <td>1.058291</td>\n",
              "      <td>0.367492</td>\n",
              "      <td>-0.052389</td>\n",
              "      <td>0.232407</td>\n",
              "      <td>0.287595</td>\n",
              "      <td>0.686964</td>\n",
              "      <td>0.420667</td>\n",
              "      <td>0.648182</td>\n",
              "      <td>0.684501</td>\n",
              "      <td>0.956692</td>\n",
              "      <td>1.000773</td>\n",
              "      <td>0.776742</td>\n",
              "      <td>0.625849</td>\n",
              "      <td>0.250823</td>\n",
              "    </tr>\n",
              "    <tr>\n",
              "      <th>...</th>\n",
              "      <td>...</td>\n",
              "      <td>...</td>\n",
              "      <td>...</td>\n",
              "      <td>...</td>\n",
              "      <td>...</td>\n",
              "      <td>...</td>\n",
              "      <td>...</td>\n",
              "      <td>...</td>\n",
              "      <td>...</td>\n",
              "      <td>...</td>\n",
              "      <td>...</td>\n",
              "      <td>...</td>\n",
              "      <td>...</td>\n",
              "      <td>...</td>\n",
              "      <td>...</td>\n",
              "      <td>...</td>\n",
              "      <td>...</td>\n",
              "      <td>...</td>\n",
              "      <td>...</td>\n",
              "      <td>...</td>\n",
              "      <td>...</td>\n",
              "      <td>...</td>\n",
              "      <td>...</td>\n",
              "      <td>...</td>\n",
              "    </tr>\n",
              "    <tr>\n",
              "      <th>299995</th>\n",
              "      <td>B</td>\n",
              "      <td>B</td>\n",
              "      <td>A</td>\n",
              "      <td>A</td>\n",
              "      <td>B</td>\n",
              "      <td>D</td>\n",
              "      <td>A</td>\n",
              "      <td>E</td>\n",
              "      <td>A</td>\n",
              "      <td>I</td>\n",
              "      <td>0.697124</td>\n",
              "      <td>0.483452</td>\n",
              "      <td>0.297770</td>\n",
              "      <td>0.195821</td>\n",
              "      <td>0.307883</td>\n",
              "      <td>0.769792</td>\n",
              "      <td>0.450538</td>\n",
              "      <td>0.934360</td>\n",
              "      <td>1.005077</td>\n",
              "      <td>0.853726</td>\n",
              "      <td>0.422541</td>\n",
              "      <td>1.063463</td>\n",
              "      <td>0.697685</td>\n",
              "      <td>0.506404</td>\n",
              "    </tr>\n",
              "    <tr>\n",
              "      <th>299996</th>\n",
              "      <td>A</td>\n",
              "      <td>B</td>\n",
              "      <td>A</td>\n",
              "      <td>C</td>\n",
              "      <td>B</td>\n",
              "      <td>B</td>\n",
              "      <td>A</td>\n",
              "      <td>E</td>\n",
              "      <td>E</td>\n",
              "      <td>F</td>\n",
              "      <td>0.446200</td>\n",
              "      <td>0.715135</td>\n",
              "      <td>0.610931</td>\n",
              "      <td>0.601730</td>\n",
              "      <td>0.736713</td>\n",
              "      <td>0.528056</td>\n",
              "      <td>0.508502</td>\n",
              "      <td>0.358247</td>\n",
              "      <td>0.257825</td>\n",
              "      <td>0.433525</td>\n",
              "      <td>0.301015</td>\n",
              "      <td>0.268447</td>\n",
              "      <td>0.577055</td>\n",
              "      <td>0.823611</td>\n",
              "    </tr>\n",
              "    <tr>\n",
              "      <th>299997</th>\n",
              "      <td>B</td>\n",
              "      <td>B</td>\n",
              "      <td>A</td>\n",
              "      <td>C</td>\n",
              "      <td>B</td>\n",
              "      <td>C</td>\n",
              "      <td>A</td>\n",
              "      <td>E</td>\n",
              "      <td>G</td>\n",
              "      <td>F</td>\n",
              "      <td>0.544279</td>\n",
              "      <td>0.060937</td>\n",
              "      <td>0.590955</td>\n",
              "      <td>0.905308</td>\n",
              "      <td>0.277074</td>\n",
              "      <td>0.688747</td>\n",
              "      <td>0.372425</td>\n",
              "      <td>0.364936</td>\n",
              "      <td>0.383224</td>\n",
              "      <td>0.551825</td>\n",
              "      <td>0.661007</td>\n",
              "      <td>0.629606</td>\n",
              "      <td>0.714139</td>\n",
              "      <td>0.245732</td>\n",
              "    </tr>\n",
              "    <tr>\n",
              "      <th>299998</th>\n",
              "      <td>A</td>\n",
              "      <td>B</td>\n",
              "      <td>A</td>\n",
              "      <td>C</td>\n",
              "      <td>B</td>\n",
              "      <td>B</td>\n",
              "      <td>A</td>\n",
              "      <td>E</td>\n",
              "      <td>E</td>\n",
              "      <td>I</td>\n",
              "      <td>0.300062</td>\n",
              "      <td>0.613118</td>\n",
              "      <td>0.285213</td>\n",
              "      <td>0.406851</td>\n",
              "      <td>0.805963</td>\n",
              "      <td>0.344404</td>\n",
              "      <td>0.424243</td>\n",
              "      <td>0.382028</td>\n",
              "      <td>0.468819</td>\n",
              "      <td>0.351036</td>\n",
              "      <td>0.288768</td>\n",
              "      <td>0.611169</td>\n",
              "      <td>0.380254</td>\n",
              "      <td>0.332030</td>\n",
              "    </tr>\n",
              "    <tr>\n",
              "      <th>299999</th>\n",
              "      <td>A</td>\n",
              "      <td>A</td>\n",
              "      <td>A</td>\n",
              "      <td>C</td>\n",
              "      <td>A</td>\n",
              "      <td>D</td>\n",
              "      <td>A</td>\n",
              "      <td>E</td>\n",
              "      <td>A</td>\n",
              "      <td>O</td>\n",
              "      <td>0.857752</td>\n",
              "      <td>0.628528</td>\n",
              "      <td>0.539625</td>\n",
              "      <td>0.396143</td>\n",
              "      <td>0.276785</td>\n",
              "      <td>0.565347</td>\n",
              "      <td>0.328669</td>\n",
              "      <td>0.789165</td>\n",
              "      <td>0.960406</td>\n",
              "      <td>0.776019</td>\n",
              "      <td>0.734707</td>\n",
              "      <td>0.484392</td>\n",
              "      <td>0.639754</td>\n",
              "      <td>0.689317</td>\n",
              "    </tr>\n",
              "  </tbody>\n",
              "</table>\n",
              "<p>300000 rows × 24 columns</p>\n",
              "</div>"
            ],
            "text/plain": [
              "       cat0 cat1 cat2 cat3  ...    cont10    cont11    cont12    cont13\n",
              "0         B    B    B    C  ...  0.237281  0.377873  0.322401  0.869850\n",
              "1         B    B    A    A  ...  0.906013  0.921701  0.261975  0.465083\n",
              "2         A    A    A    C  ...  0.748809  0.620126  0.541474  0.763846\n",
              "3         B    B    A    C  ...  0.346010  0.714610  0.540150  0.280682\n",
              "4         A    A    A    C  ...  1.000773  0.776742  0.625849  0.250823\n",
              "...     ...  ...  ...  ...  ...       ...       ...       ...       ...\n",
              "299995    B    B    A    A  ...  0.422541  1.063463  0.697685  0.506404\n",
              "299996    A    B    A    C  ...  0.301015  0.268447  0.577055  0.823611\n",
              "299997    B    B    A    C  ...  0.661007  0.629606  0.714139  0.245732\n",
              "299998    A    B    A    C  ...  0.288768  0.611169  0.380254  0.332030\n",
              "299999    A    A    A    C  ...  0.734707  0.484392  0.639754  0.689317\n",
              "\n",
              "[300000 rows x 24 columns]"
            ]
          },
          "metadata": {},
          "execution_count": 8
        }
      ]
    },
    {
      "cell_type": "code",
      "metadata": {
        "colab": {
          "base_uri": "https://localhost:8080/"
        },
        "id": "2dYxoc-e_Gut",
        "outputId": "01fa0cb1-e195-4cf3-a5e1-f24e4ac07df2"
      },
      "source": [
        "numeric_ = X.select_dtypes(exclude=['object']).copy()\n",
        "numeric_.columns"
      ],
      "execution_count": null,
      "outputs": [
        {
          "output_type": "execute_result",
          "data": {
            "text/plain": [
              "Index(['cont0', 'cont1', 'cont2', 'cont3', 'cont4', 'cont5', 'cont6', 'cont7',\n",
              "       'cont8', 'cont9', 'cont10', 'cont11', 'cont12', 'cont13'],\n",
              "      dtype='object')"
            ]
          },
          "metadata": {},
          "execution_count": 9
        }
      ]
    },
    {
      "cell_type": "code",
      "metadata": {
        "colab": {
          "base_uri": "https://localhost:8080/"
        },
        "id": "OAewgqob_Uep",
        "outputId": "fab1e295-782b-4408-e23a-d2f9646d07e6"
      },
      "source": [
        "categoric_ = X.select_dtypes(exclude=['float64']).copy()\n",
        "categoric_.columns"
      ],
      "execution_count": null,
      "outputs": [
        {
          "output_type": "execute_result",
          "data": {
            "text/plain": [
              "Index(['cat0', 'cat1', 'cat2', 'cat3', 'cat4', 'cat5', 'cat6', 'cat7', 'cat8',\n",
              "       'cat9'],\n",
              "      dtype='object')"
            ]
          },
          "metadata": {},
          "execution_count": 10
        }
      ]
    },
    {
      "cell_type": "code",
      "metadata": {
        "colab": {
          "base_uri": "https://localhost:8080/"
        },
        "id": "Eqd9MqtQ_6Qq",
        "outputId": "ebf205ef-bb6d-4fcd-97d8-8e25bdc40960"
      },
      "source": [
        "numeric_var = [] \n",
        "numeric_var.append(numeric_.columns)\n",
        "numeric_var"
      ],
      "execution_count": null,
      "outputs": [
        {
          "output_type": "execute_result",
          "data": {
            "text/plain": [
              "[Index(['cont0', 'cont1', 'cont2', 'cont3', 'cont4', 'cont5', 'cont6', 'cont7',\n",
              "        'cont8', 'cont9', 'cont10', 'cont11', 'cont12', 'cont13'],\n",
              "       dtype='object')]"
            ]
          },
          "metadata": {},
          "execution_count": 11
        }
      ]
    },
    {
      "cell_type": "code",
      "metadata": {
        "colab": {
          "base_uri": "https://localhost:8080/",
          "height": 801
        },
        "id": "-AJ3ETXJBq3h",
        "outputId": "eacbbee4-8917-4186-e057-723ed7605727"
      },
      "source": [
        "fig = plt.figure(figsize=(18,16))\n",
        "for index,col in enumerate(numeric_): \n",
        "    plt.subplot(6,4,index+1)\n",
        "    sns.distplot(numeric_.loc[:,col].dropna(),kde=False)\n",
        "fig.tight_layout(pad=1.0)"
      ],
      "execution_count": null,
      "outputs": [
        {
          "output_type": "display_data",
          "data": {
            "image/png": "[encoded data removed]",
            "text/plain": [
              "<Figure size 1296x1152 with 14 Axes>"
            ]
          },
          "metadata": {
            "needs_background": "light"
          }
        }
      ]
    },
    {
      "cell_type": "code",
      "metadata": {
        "colab": {
          "base_uri": "https://localhost:8080/",
          "height": 736
        },
        "id": "E1t7BjqTCAeT",
        "outputId": "64336f07-f187-4fdb-dbc3-08fd1d35b687"
      },
      "source": [
        "fig = plt.figure(figsize=(14,15))\n",
        "for index,col in enumerate(numeric_):\n",
        "    plt.subplot(6,4,index+1)\n",
        "    sns.boxplot(y=col, data=numeric_.dropna())\n",
        "fig.tight_layout(pad=1.0)"
      ],
      "execution_count": null,
      "outputs": [
        {
          "output_type": "display_data",
          "data": {
            "image/png": "[encoded data removed]",
            "text/plain": [
              "<Figure size 1008x1080 with 14 Axes>"
            ]
          },
          "metadata": {
            "needs_background": "light"
          }
        }
      ]
    },
    {
      "cell_type": "code",
      "metadata": {
        "colab": {
          "base_uri": "https://localhost:8080/",
          "height": 314
        },
        "id": "V8SHU9_OAKHk",
        "outputId": "4bc82fe9-7ed5-4e85-fee4-37249d72f546"
      },
      "source": [
        "fig = plt.figure(figsize=(18,20))\n",
        "for index in range(len(categoric_.columns)):\n",
        "    plt.subplot(10,5,index+1)\n",
        "    sns.countplot(x=categoric_.iloc[:,index], data=categoric_.dropna())\n",
        "    plt.xticks(rotation=90)\n",
        "fig.tight_layout(pad=1.0)"
      ],
      "execution_count": null,
      "outputs": [
        {
          "output_type": "display_data",
          "data": {
            "image/png": "[encoded data removed]",
            "text/plain": [
              "<Figure size 1296x1440 with 10 Axes>"
            ]
          },
          "metadata": {
            "needs_background": "light"
          }
        }
      ]
    },
    {
      "cell_type": "code",
      "metadata": {
        "colab": {
          "base_uri": "https://localhost:8080/"
        },
        "id": "JduKG_v2eMVK",
        "outputId": "76086b69-45cc-4a76-cb91-d5407b3fb743"
      },
      "source": [
        "y"
      ],
      "execution_count": null,
      "outputs": [
        {
          "output_type": "execute_result",
          "data": {
            "text/plain": [
              "0         8.113634\n",
              "1         8.481233\n",
              "2         8.364351\n",
              "3         8.049253\n",
              "4         7.972260\n",
              "            ...   \n",
              "299995    7.945605\n",
              "299996    7.326118\n",
              "299997    8.706755\n",
              "299998    7.229569\n",
              "299999    8.631146\n",
              "Name: target, Length: 300000, dtype: float64"
            ]
          },
          "metadata": {},
          "execution_count": 15
        }
      ]
    },
    {
      "cell_type": "code",
      "metadata": {
        "colab": {
          "base_uri": "https://localhost:8080/"
        },
        "id": "x74PcSqTePTq",
        "outputId": "d7f4f09e-671b-44c2-b39a-d8b7de21c01a"
      },
      "source": [
        "y.describe()"
      ],
      "execution_count": null,
      "outputs": [
        {
          "output_type": "execute_result",
          "data": {
            "text/plain": [
              "count    300000.000000\n",
              "mean          8.241979\n",
              "std           0.746555\n",
              "min           0.140329\n",
              "25%           7.742071\n",
              "50%           8.191373\n",
              "75%           8.728634\n",
              "max          10.411992\n",
              "Name: target, dtype: float64"
            ]
          },
          "metadata": {},
          "execution_count": 16
        }
      ]
    },
    {
      "cell_type": "code",
      "metadata": {
        "colab": {
          "base_uri": "https://localhost:8080/",
          "height": 297
        },
        "id": "DyfjKI_qeIiD",
        "outputId": "834a9d37-adfa-436e-f168-9284f0e147be"
      },
      "source": [
        " sns.distplot(y.dropna(),kde=False)"
      ],
      "execution_count": null,
      "outputs": [
        {
          "output_type": "execute_result",
          "data": {
            "text/plain": [
              "<matplotlib.axes._subplots.AxesSubplot at 0x7f117b149dd0>"
            ]
          },
          "metadata": {},
          "execution_count": 17
        },
        {
          "output_type": "display_data",
          "data": {
            "image/png": "[encoded data removed]",
            "text/plain": [
              "<Figure size 432x288 with 1 Axes>"
            ]
          },
          "metadata": {
            "needs_background": "light"
          }
        }
      ]
    },
    {
      "cell_type": "code",
      "metadata": {
        "colab": {
          "base_uri": "https://localhost:8080/",
          "height": 525
        },
        "id": "MHmT-_rwBoR6",
        "outputId": "354c456c-9f63-4d48-bc00-61bfd80a3f14"
      },
      "source": [
        "fig = plt.figure(figsize=(18, 8), facecolor=background_color)\n",
        "sns.heatmap(numeric_.corr(), vmin=-1, vmax=1, annot=True, square=True, \n",
        "            cbar_kws={\"orientation\": \"horizontal\"}, cbar=False, cmap=colormap, fmt='.1g')"
      ],
      "execution_count": null,
      "outputs": [
        {
          "output_type": "execute_result",
          "data": {
            "text/plain": [
              "<matplotlib.axes._subplots.AxesSubplot at 0x7f117b1f7650>"
            ]
          },
          "metadata": {},
          "execution_count": 19
        },
        {
          "output_type": "display_data",
          "data": {
            "image/png": "[encoded data removed]",
            "text/plain": [
              "<Figure size 1296x576 with 1 Axes>"
            ]
          },
          "metadata": {}
        }
      ]
    },
    {
      "cell_type": "code",
      "metadata": {
        "colab": {
          "base_uri": "https://localhost:8080/",
          "height": 483
        },
        "id": "BCRw1IdY-mnr",
        "outputId": "ddb4aa1e-39f3-4713-a053-cc2c6c66ab8b"
      },
      "source": [
        "corr = numeric_.corr(method='pearson')\n",
        "corr"
      ],
      "execution_count": null,
      "outputs": [
        {
          "output_type": "execute_result",
          "data": {
            "text/html": [
              "<div>\n",
              "<style scoped>\n",
              "    .dataframe tbody tr th:only-of-type {\n",
              "        vertical-align: middle;\n",
              "    }\n",
              "\n",
              "    .dataframe tbody tr th {\n",
              "        vertical-align: top;\n",
              "    }\n",
              "\n",
              "    .dataframe thead th {\n",
              "        text-align: right;\n",
              "    }\n",
              "</style>\n",
              "<table border=\"1\" class=\"dataframe\">\n",
              "  <thead>\n",
              "    <tr style=\"text-align: right;\">\n",
              "      <th></th>\n",
              "      <th>cont0</th>\n",
              "      <th>cont1</th>\n",
              "      <th>cont2</th>\n",
              "      <th>cont3</th>\n",
              "      <th>cont4</th>\n",
              "      <th>cont5</th>\n",
              "      <th>cont6</th>\n",
              "      <th>cont7</th>\n",
              "      <th>cont8</th>\n",
              "      <th>cont9</th>\n",
              "      <th>cont10</th>\n",
              "      <th>cont11</th>\n",
              "      <th>cont12</th>\n",
              "      <th>cont13</th>\n",
              "    </tr>\n",
              "  </thead>\n",
              "  <tbody>\n",
              "    <tr>\n",
              "      <th>cont0</th>\n",
              "      <td>1.000000</td>\n",
              "      <td>-0.009422</td>\n",
              "      <td>-0.296989</td>\n",
              "      <td>0.211333</td>\n",
              "      <td>-0.109776</td>\n",
              "      <td>0.392456</td>\n",
              "      <td>0.133995</td>\n",
              "      <td>0.294687</td>\n",
              "      <td>0.388510</td>\n",
              "      <td>0.394969</td>\n",
              "      <td>0.363413</td>\n",
              "      <td>0.255941</td>\n",
              "      <td>0.417872</td>\n",
              "      <td>0.023234</td>\n",
              "    </tr>\n",
              "    <tr>\n",
              "      <th>cont1</th>\n",
              "      <td>-0.009422</td>\n",
              "      <td>1.000000</td>\n",
              "      <td>-0.000627</td>\n",
              "      <td>-0.002233</td>\n",
              "      <td>-0.000285</td>\n",
              "      <td>0.003812</td>\n",
              "      <td>0.001321</td>\n",
              "      <td>0.013475</td>\n",
              "      <td>-0.021541</td>\n",
              "      <td>-0.002727</td>\n",
              "      <td>-0.001648</td>\n",
              "      <td>-0.017221</td>\n",
              "      <td>-0.006862</td>\n",
              "      <td>-0.010097</td>\n",
              "    </tr>\n",
              "    <tr>\n",
              "      <th>cont2</th>\n",
              "      <td>-0.296989</td>\n",
              "      <td>-0.000627</td>\n",
              "      <td>1.000000</td>\n",
              "      <td>-0.180856</td>\n",
              "      <td>0.092780</td>\n",
              "      <td>-0.300140</td>\n",
              "      <td>-0.141724</td>\n",
              "      <td>-0.283989</td>\n",
              "      <td>-0.326456</td>\n",
              "      <td>-0.309118</td>\n",
              "      <td>-0.300273</td>\n",
              "      <td>-0.325023</td>\n",
              "      <td>-0.352009</td>\n",
              "      <td>-0.039815</td>\n",
              "    </tr>\n",
              "    <tr>\n",
              "      <th>cont3</th>\n",
              "      <td>0.211333</td>\n",
              "      <td>-0.002233</td>\n",
              "      <td>-0.180856</td>\n",
              "      <td>1.000000</td>\n",
              "      <td>-0.069934</td>\n",
              "      <td>0.201441</td>\n",
              "      <td>0.040133</td>\n",
              "      <td>0.172586</td>\n",
              "      <td>0.185221</td>\n",
              "      <td>0.194807</td>\n",
              "      <td>0.199525</td>\n",
              "      <td>0.140934</td>\n",
              "      <td>0.255117</td>\n",
              "      <td>0.037920</td>\n",
              "    </tr>\n",
              "    <tr>\n",
              "      <th>cont4</th>\n",
              "      <td>-0.109776</td>\n",
              "      <td>-0.000285</td>\n",
              "      <td>0.092780</td>\n",
              "      <td>-0.069934</td>\n",
              "      <td>1.000000</td>\n",
              "      <td>-0.148807</td>\n",
              "      <td>-0.044417</td>\n",
              "      <td>-0.095653</td>\n",
              "      <td>-0.122594</td>\n",
              "      <td>-0.123468</td>\n",
              "      <td>-0.132211</td>\n",
              "      <td>-0.115173</td>\n",
              "      <td>-0.151080</td>\n",
              "      <td>-0.012798</td>\n",
              "    </tr>\n",
              "    <tr>\n",
              "      <th>cont5</th>\n",
              "      <td>0.392456</td>\n",
              "      <td>0.003812</td>\n",
              "      <td>-0.300140</td>\n",
              "      <td>0.201441</td>\n",
              "      <td>-0.148807</td>\n",
              "      <td>1.000000</td>\n",
              "      <td>0.211800</td>\n",
              "      <td>0.329357</td>\n",
              "      <td>0.392057</td>\n",
              "      <td>0.411366</td>\n",
              "      <td>0.402053</td>\n",
              "      <td>0.308249</td>\n",
              "      <td>0.473964</td>\n",
              "      <td>0.053779</td>\n",
              "    </tr>\n",
              "    <tr>\n",
              "      <th>cont6</th>\n",
              "      <td>0.133995</td>\n",
              "      <td>0.001321</td>\n",
              "      <td>-0.141724</td>\n",
              "      <td>0.040133</td>\n",
              "      <td>-0.044417</td>\n",
              "      <td>0.211800</td>\n",
              "      <td>1.000000</td>\n",
              "      <td>0.135333</td>\n",
              "      <td>0.117833</td>\n",
              "      <td>0.187303</td>\n",
              "      <td>0.178168</td>\n",
              "      <td>0.168731</td>\n",
              "      <td>0.171010</td>\n",
              "      <td>0.031183</td>\n",
              "    </tr>\n",
              "    <tr>\n",
              "      <th>cont7</th>\n",
              "      <td>0.294687</td>\n",
              "      <td>0.013475</td>\n",
              "      <td>-0.283989</td>\n",
              "      <td>0.172586</td>\n",
              "      <td>-0.095653</td>\n",
              "      <td>0.329357</td>\n",
              "      <td>0.135333</td>\n",
              "      <td>1.000000</td>\n",
              "      <td>0.332639</td>\n",
              "      <td>0.320239</td>\n",
              "      <td>0.283414</td>\n",
              "      <td>0.279405</td>\n",
              "      <td>0.363091</td>\n",
              "      <td>0.056958</td>\n",
              "    </tr>\n",
              "    <tr>\n",
              "      <th>cont8</th>\n",
              "      <td>0.388510</td>\n",
              "      <td>-0.021541</td>\n",
              "      <td>-0.326456</td>\n",
              "      <td>0.185221</td>\n",
              "      <td>-0.122594</td>\n",
              "      <td>0.392057</td>\n",
              "      <td>0.117833</td>\n",
              "      <td>0.332639</td>\n",
              "      <td>1.000000</td>\n",
              "      <td>0.406517</td>\n",
              "      <td>0.341430</td>\n",
              "      <td>0.297121</td>\n",
              "      <td>0.434196</td>\n",
              "      <td>0.050163</td>\n",
              "    </tr>\n",
              "    <tr>\n",
              "      <th>cont9</th>\n",
              "      <td>0.394969</td>\n",
              "      <td>-0.002727</td>\n",
              "      <td>-0.309118</td>\n",
              "      <td>0.194807</td>\n",
              "      <td>-0.123468</td>\n",
              "      <td>0.411366</td>\n",
              "      <td>0.187303</td>\n",
              "      <td>0.320239</td>\n",
              "      <td>0.406517</td>\n",
              "      <td>1.000000</td>\n",
              "      <td>0.361941</td>\n",
              "      <td>0.327866</td>\n",
              "      <td>0.437776</td>\n",
              "      <td>0.044631</td>\n",
              "    </tr>\n",
              "    <tr>\n",
              "      <th>cont10</th>\n",
              "      <td>0.363413</td>\n",
              "      <td>-0.001648</td>\n",
              "      <td>-0.300273</td>\n",
              "      <td>0.199525</td>\n",
              "      <td>-0.132211</td>\n",
              "      <td>0.402053</td>\n",
              "      <td>0.178168</td>\n",
              "      <td>0.283414</td>\n",
              "      <td>0.341430</td>\n",
              "      <td>0.361941</td>\n",
              "      <td>1.000000</td>\n",
              "      <td>0.293860</td>\n",
              "      <td>0.407609</td>\n",
              "      <td>0.041353</td>\n",
              "    </tr>\n",
              "    <tr>\n",
              "      <th>cont11</th>\n",
              "      <td>0.255941</td>\n",
              "      <td>-0.017221</td>\n",
              "      <td>-0.325023</td>\n",
              "      <td>0.140934</td>\n",
              "      <td>-0.115173</td>\n",
              "      <td>0.308249</td>\n",
              "      <td>0.168731</td>\n",
              "      <td>0.279405</td>\n",
              "      <td>0.297121</td>\n",
              "      <td>0.327866</td>\n",
              "      <td>0.293860</td>\n",
              "      <td>1.000000</td>\n",
              "      <td>0.363579</td>\n",
              "      <td>0.031141</td>\n",
              "    </tr>\n",
              "    <tr>\n",
              "      <th>cont12</th>\n",
              "      <td>0.417872</td>\n",
              "      <td>-0.006862</td>\n",
              "      <td>-0.352009</td>\n",
              "      <td>0.255117</td>\n",
              "      <td>-0.151080</td>\n",
              "      <td>0.473964</td>\n",
              "      <td>0.171010</td>\n",
              "      <td>0.363091</td>\n",
              "      <td>0.434196</td>\n",
              "      <td>0.437776</td>\n",
              "      <td>0.407609</td>\n",
              "      <td>0.363579</td>\n",
              "      <td>1.000000</td>\n",
              "      <td>0.059919</td>\n",
              "    </tr>\n",
              "    <tr>\n",
              "      <th>cont13</th>\n",
              "      <td>0.023234</td>\n",
              "      <td>-0.010097</td>\n",
              "      <td>-0.039815</td>\n",
              "      <td>0.037920</td>\n",
              "      <td>-0.012798</td>\n",
              "      <td>0.053779</td>\n",
              "      <td>0.031183</td>\n",
              "      <td>0.056958</td>\n",
              "      <td>0.050163</td>\n",
              "      <td>0.044631</td>\n",
              "      <td>0.041353</td>\n",
              "      <td>0.031141</td>\n",
              "      <td>0.059919</td>\n",
              "      <td>1.000000</td>\n",
              "    </tr>\n",
              "  </tbody>\n",
              "</table>\n",
              "</div>"
            ],
            "text/plain": [
              "           cont0     cont1     cont2  ...    cont11    cont12    cont13\n",
              "cont0   1.000000 -0.009422 -0.296989  ...  0.255941  0.417872  0.023234\n",
              "cont1  -0.009422  1.000000 -0.000627  ... -0.017221 -0.006862 -0.010097\n",
              "cont2  -0.296989 -0.000627  1.000000  ... -0.325023 -0.352009 -0.039815\n",
              "cont3   0.211333 -0.002233 -0.180856  ...  0.140934  0.255117  0.037920\n",
              "cont4  -0.109776 -0.000285  0.092780  ... -0.115173 -0.151080 -0.012798\n",
              "cont5   0.392456  0.003812 -0.300140  ...  0.308249  0.473964  0.053779\n",
              "cont6   0.133995  0.001321 -0.141724  ...  0.168731  0.171010  0.031183\n",
              "cont7   0.294687  0.013475 -0.283989  ...  0.279405  0.363091  0.056958\n",
              "cont8   0.388510 -0.021541 -0.326456  ...  0.297121  0.434196  0.050163\n",
              "cont9   0.394969 -0.002727 -0.309118  ...  0.327866  0.437776  0.044631\n",
              "cont10  0.363413 -0.001648 -0.300273  ...  0.293860  0.407609  0.041353\n",
              "cont11  0.255941 -0.017221 -0.325023  ...  1.000000  0.363579  0.031141\n",
              "cont12  0.417872 -0.006862 -0.352009  ...  0.363579  1.000000  0.059919\n",
              "cont13  0.023234 -0.010097 -0.039815  ...  0.031141  0.059919  1.000000\n",
              "\n",
              "[14 rows x 14 columns]"
            ]
          },
          "metadata": {},
          "execution_count": 20
        }
      ]
    },
    {
      "cell_type": "code",
      "metadata": {
        "colab": {
          "base_uri": "https://localhost:8080/",
          "height": 204
        },
        "id": "FduxkZWJaTc1",
        "outputId": "648ec9a7-da69-4d22-c4e2-b84fc80e46e7"
      },
      "source": [
        "from sklearn.preprocessing import OrdinalEncoder\n",
        "cat_cols = [col for col in train.columns if 'cat' in col]\n",
        "\n",
        "X = train.copy()\n",
        "X_test = test.copy()\n",
        "enc = OrdinalEncoder()\n",
        "X[cat_cols] = enc.fit_transform(train[cat_cols])\n",
        "X_test[cat_cols] = enc.transform(test[cat_cols])\n",
        "X.head()"
      ],
      "execution_count": 4,
      "outputs": [
        {
          "output_type": "execute_result",
          "data": {
            "text/html": [
              "<div>\n",
              "<style scoped>\n",
              "    .dataframe tbody tr th:only-of-type {\n",
              "        vertical-align: middle;\n",
              "    }\n",
              "\n",
              "    .dataframe tbody tr th {\n",
              "        vertical-align: top;\n",
              "    }\n",
              "\n",
              "    .dataframe thead th {\n",
              "        text-align: right;\n",
              "    }\n",
              "</style>\n",
              "<table border=\"1\" class=\"dataframe\">\n",
              "  <thead>\n",
              "    <tr style=\"text-align: right;\">\n",
              "      <th></th>\n",
              "      <th>cat0</th>\n",
              "      <th>cat1</th>\n",
              "      <th>cat2</th>\n",
              "      <th>cat3</th>\n",
              "      <th>cat4</th>\n",
              "      <th>cat5</th>\n",
              "      <th>cat6</th>\n",
              "      <th>cat7</th>\n",
              "      <th>cat8</th>\n",
              "      <th>cat9</th>\n",
              "      <th>cont0</th>\n",
              "      <th>cont1</th>\n",
              "      <th>cont2</th>\n",
              "      <th>cont3</th>\n",
              "      <th>cont4</th>\n",
              "      <th>cont5</th>\n",
              "      <th>cont6</th>\n",
              "      <th>cont7</th>\n",
              "      <th>cont8</th>\n",
              "      <th>cont9</th>\n",
              "      <th>cont10</th>\n",
              "      <th>cont11</th>\n",
              "      <th>cont12</th>\n",
              "      <th>cont13</th>\n",
              "    </tr>\n",
              "  </thead>\n",
              "  <tbody>\n",
              "    <tr>\n",
              "      <th>0</th>\n",
              "      <td>1.0</td>\n",
              "      <td>1.0</td>\n",
              "      <td>1.0</td>\n",
              "      <td>2.0</td>\n",
              "      <td>1.0</td>\n",
              "      <td>1.0</td>\n",
              "      <td>0.0</td>\n",
              "      <td>4.0</td>\n",
              "      <td>2.0</td>\n",
              "      <td>13.0</td>\n",
              "      <td>0.201470</td>\n",
              "      <td>-0.014822</td>\n",
              "      <td>0.669699</td>\n",
              "      <td>0.136278</td>\n",
              "      <td>0.610706</td>\n",
              "      <td>0.400361</td>\n",
              "      <td>0.160266</td>\n",
              "      <td>0.310921</td>\n",
              "      <td>0.389470</td>\n",
              "      <td>0.267559</td>\n",
              "      <td>0.237281</td>\n",
              "      <td>0.377873</td>\n",
              "      <td>0.322401</td>\n",
              "      <td>0.869850</td>\n",
              "    </tr>\n",
              "    <tr>\n",
              "      <th>1</th>\n",
              "      <td>1.0</td>\n",
              "      <td>1.0</td>\n",
              "      <td>0.0</td>\n",
              "      <td>0.0</td>\n",
              "      <td>1.0</td>\n",
              "      <td>3.0</td>\n",
              "      <td>0.0</td>\n",
              "      <td>5.0</td>\n",
              "      <td>0.0</td>\n",
              "      <td>14.0</td>\n",
              "      <td>0.743068</td>\n",
              "      <td>0.367411</td>\n",
              "      <td>1.021605</td>\n",
              "      <td>0.365798</td>\n",
              "      <td>0.276853</td>\n",
              "      <td>0.533087</td>\n",
              "      <td>0.558922</td>\n",
              "      <td>0.516294</td>\n",
              "      <td>0.594928</td>\n",
              "      <td>0.341439</td>\n",
              "      <td>0.906013</td>\n",
              "      <td>0.921701</td>\n",
              "      <td>0.261975</td>\n",
              "      <td>0.465083</td>\n",
              "    </tr>\n",
              "    <tr>\n",
              "      <th>2</th>\n",
              "      <td>0.0</td>\n",
              "      <td>0.0</td>\n",
              "      <td>0.0</td>\n",
              "      <td>2.0</td>\n",
              "      <td>1.0</td>\n",
              "      <td>3.0</td>\n",
              "      <td>0.0</td>\n",
              "      <td>3.0</td>\n",
              "      <td>0.0</td>\n",
              "      <td>5.0</td>\n",
              "      <td>0.742708</td>\n",
              "      <td>0.310383</td>\n",
              "      <td>-0.012673</td>\n",
              "      <td>0.576957</td>\n",
              "      <td>0.285074</td>\n",
              "      <td>0.650609</td>\n",
              "      <td>0.375348</td>\n",
              "      <td>0.902567</td>\n",
              "      <td>0.555205</td>\n",
              "      <td>0.843531</td>\n",
              "      <td>0.748809</td>\n",
              "      <td>0.620126</td>\n",
              "      <td>0.541474</td>\n",
              "      <td>0.763846</td>\n",
              "    </tr>\n",
              "    <tr>\n",
              "      <th>3</th>\n",
              "      <td>1.0</td>\n",
              "      <td>1.0</td>\n",
              "      <td>0.0</td>\n",
              "      <td>2.0</td>\n",
              "      <td>1.0</td>\n",
              "      <td>3.0</td>\n",
              "      <td>0.0</td>\n",
              "      <td>4.0</td>\n",
              "      <td>2.0</td>\n",
              "      <td>10.0</td>\n",
              "      <td>0.429551</td>\n",
              "      <td>0.620998</td>\n",
              "      <td>0.577942</td>\n",
              "      <td>0.280610</td>\n",
              "      <td>0.284667</td>\n",
              "      <td>0.668980</td>\n",
              "      <td>0.239061</td>\n",
              "      <td>0.732948</td>\n",
              "      <td>0.679618</td>\n",
              "      <td>0.574844</td>\n",
              "      <td>0.346010</td>\n",
              "      <td>0.714610</td>\n",
              "      <td>0.540150</td>\n",
              "      <td>0.280682</td>\n",
              "    </tr>\n",
              "    <tr>\n",
              "      <th>4</th>\n",
              "      <td>0.0</td>\n",
              "      <td>0.0</td>\n",
              "      <td>0.0</td>\n",
              "      <td>2.0</td>\n",
              "      <td>1.0</td>\n",
              "      <td>3.0</td>\n",
              "      <td>0.0</td>\n",
              "      <td>4.0</td>\n",
              "      <td>0.0</td>\n",
              "      <td>13.0</td>\n",
              "      <td>1.058291</td>\n",
              "      <td>0.367492</td>\n",
              "      <td>-0.052389</td>\n",
              "      <td>0.232407</td>\n",
              "      <td>0.287595</td>\n",
              "      <td>0.686964</td>\n",
              "      <td>0.420667</td>\n",
              "      <td>0.648182</td>\n",
              "      <td>0.684501</td>\n",
              "      <td>0.956692</td>\n",
              "      <td>1.000773</td>\n",
              "      <td>0.776742</td>\n",
              "      <td>0.625849</td>\n",
              "      <td>0.250823</td>\n",
              "    </tr>\n",
              "  </tbody>\n",
              "</table>\n",
              "</div>"
            ],
            "text/plain": [
              "   cat0  cat1  cat2  cat3  ...    cont10    cont11    cont12    cont13\n",
              "0   1.0   1.0   1.0   2.0  ...  0.237281  0.377873  0.322401  0.869850\n",
              "1   1.0   1.0   0.0   0.0  ...  0.906013  0.921701  0.261975  0.465083\n",
              "2   0.0   0.0   0.0   2.0  ...  0.748809  0.620126  0.541474  0.763846\n",
              "3   1.0   1.0   0.0   2.0  ...  0.346010  0.714610  0.540150  0.280682\n",
              "4   0.0   0.0   0.0   2.0  ...  1.000773  0.776742  0.625849  0.250823\n",
              "\n",
              "[5 rows x 24 columns]"
            ]
          },
          "metadata": {},
          "execution_count": 4
        }
      ]
    },
    {
      "cell_type": "code",
      "metadata": {
        "id": "sI9-9RBCrSYg"
      },
      "source": [
        "from sklearn.metrics import mean_squared_error\n",
        "from sklearn.model_selection import KFold\n",
        "\n",
        "# Model hyperparameters\n",
        "xgb_params = {'n_estimators': 10000,\n",
        "              'learning_rate': 0.35,\n",
        "              'subsample': 0.926,\n",
        "              'colsample_bytree': 0.84,\n",
        "              'max_depth': 2,\n",
        "              'booster': 'gbtree', \n",
        "              'reg_lambda': 35.1,\n",
        "              'reg_alpha': 34.9,\n",
        "              'random_state': 42,\n",
        "              'n_jobs': 4}"
      ],
      "execution_count": 6,
      "outputs": []
    },
    {
      "cell_type": "code",
      "metadata": {
        "colab": {
          "base_uri": "https://localhost:8080/"
        },
        "id": "f9-lP_COdf8H",
        "outputId": "234177f8-f0f7-43f6-9032-ee00ebd91339"
      },
      "source": [
        "cat_cols"
      ],
      "execution_count": null,
      "outputs": [
        {
          "output_type": "execute_result",
          "data": {
            "text/plain": [
              "['cat0',\n",
              " 'cat1',\n",
              " 'cat2',\n",
              " 'cat3',\n",
              " 'cat4',\n",
              " 'cat5',\n",
              " 'cat6',\n",
              " 'cat7',\n",
              " 'cat8',\n",
              " 'cat9']"
            ]
          },
          "metadata": {},
          "execution_count": 22
        }
      ]
    },
    {
      "cell_type": "code",
      "metadata": {
        "colab": {
          "base_uri": "https://localhost:8080/"
        },
        "id": "Rt0PA9j0kk6e",
        "outputId": "439771d3-afd5-4a46-fa25-a542013d86d0"
      },
      "source": [
        "#Setting the kfold parameters\n",
        "kf = KFold(n_splits = 10, shuffle = True, random_state = 42)\n",
        "\n",
        "oof_preds = np.zeros((X.shape[0],))\n",
        "preds = 0\n",
        "model_fi = 0\n",
        "mean_rmse = 0\n",
        "\n",
        "for num, (train_id, valid_id) in enumerate(kf.split(X)):\n",
        "    X_train, X_valid = X.loc[train_id], X.loc[valid_id]\n",
        "    y_train, y_valid = y.loc[train_id], y.loc[valid_id]\n",
        "    \n",
        "    model = XGBRegressor(**xgb_params)\n",
        "    model.fit(X_train, y_train,\n",
        "             verbose = False,\n",
        "             eval_set = [(X_train, y_train), (X_valid, y_valid)],\n",
        "             eval_metric = \"rmse\",\n",
        "             early_stopping_rounds = 100)\n",
        "    \n",
        "    #Mean of the predictions\n",
        "    preds += model.predict(X_test) / 10 # Splits\n",
        "    \n",
        "    #Mean of feature importance\n",
        "    model_fi += model.feature_importances_ / 10 #splits\n",
        "    \n",
        "    #Out of Fold predictions\n",
        "    oof_preds[valid_id] = model.predict(X_valid)\n",
        "    fold_rmse = np.sqrt(mean_squared_error(y_valid, oof_preds[valid_id]))\n",
        "    print(f\"Fold {num} | RMSE: {fold_rmse}\")\n",
        "    \n",
        "    mean_rmse += fold_rmse / 10\n",
        "    \n",
        "print(f\"\\nOverall RMSE: {mean_rmse}\")"
      ],
      "execution_count": 7,
      "outputs": [
        {
          "output_type": "stream",
          "text": [
            "[08:28:43] WARNING: /workspace/src/objective/regression_obj.cu:152: reg:linear is now deprecated in favor of reg:squarederror.\n",
            "Fold 0 | RMSE: 0.7163380340221153\n",
            "[08:34:21] WARNING: /workspace/src/objective/regression_obj.cu:152: reg:linear is now deprecated in favor of reg:squarederror.\n",
            "Fold 1 | RMSE: 0.7160567811349912\n",
            "[08:38:56] WARNING: /workspace/src/objective/regression_obj.cu:152: reg:linear is now deprecated in favor of reg:squarederror.\n",
            "Fold 2 | RMSE: 0.7154031941272214\n",
            "[08:43:34] WARNING: /workspace/src/objective/regression_obj.cu:152: reg:linear is now deprecated in favor of reg:squarederror.\n",
            "Fold 3 | RMSE: 0.717341625250321\n",
            "[08:49:22] WARNING: /workspace/src/objective/regression_obj.cu:152: reg:linear is now deprecated in favor of reg:squarederror.\n",
            "Fold 4 | RMSE: 0.7216675773399901\n",
            "[08:55:29] WARNING: /workspace/src/objective/regression_obj.cu:152: reg:linear is now deprecated in favor of reg:squarederror.\n",
            "Fold 5 | RMSE: 0.7150760387257169\n",
            "[08:59:59] WARNING: /workspace/src/objective/regression_obj.cu:152: reg:linear is now deprecated in favor of reg:squarederror.\n",
            "Fold 6 | RMSE: 0.7176464942251531\n",
            "[09:04:23] WARNING: /workspace/src/objective/regression_obj.cu:152: reg:linear is now deprecated in favor of reg:squarederror.\n",
            "Fold 7 | RMSE: 0.7187139972583644\n",
            "[09:08:19] WARNING: /workspace/src/objective/regression_obj.cu:152: reg:linear is now deprecated in favor of reg:squarederror.\n",
            "Fold 8 | RMSE: 0.7197202951089038\n",
            "[09:13:09] WARNING: /workspace/src/objective/regression_obj.cu:152: reg:linear is now deprecated in favor of reg:squarederror.\n",
            "Fold 9 | RMSE: 0.7121583877675994\n",
            "\n",
            "Overall RMSE: 0.7170122424960376\n"
          ],
          "name": "stdout"
        }
      ]
    },
    {
      "cell_type": "code",
      "metadata": {
        "colab": {
          "base_uri": "https://localhost:8080/",
          "height": 204
        },
        "id": "iROE13Nu3UQt",
        "outputId": "ba43e392-c675-4435-d291-4886c7c26fc2"
      },
      "source": [
        "sub.target = preds\n",
        "sub.head()"
      ],
      "execution_count": 9,
      "outputs": [
        {
          "output_type": "execute_result",
          "data": {
            "text/html": [
              "<div>\n",
              "<style scoped>\n",
              "    .dataframe tbody tr th:only-of-type {\n",
              "        vertical-align: middle;\n",
              "    }\n",
              "\n",
              "    .dataframe tbody tr th {\n",
              "        vertical-align: top;\n",
              "    }\n",
              "\n",
              "    .dataframe thead th {\n",
              "        text-align: right;\n",
              "    }\n",
              "</style>\n",
              "<table border=\"1\" class=\"dataframe\">\n",
              "  <thead>\n",
              "    <tr style=\"text-align: right;\">\n",
              "      <th></th>\n",
              "      <th>id</th>\n",
              "      <th>target</th>\n",
              "    </tr>\n",
              "  </thead>\n",
              "  <tbody>\n",
              "    <tr>\n",
              "      <th>0</th>\n",
              "      <td>0</td>\n",
              "      <td>8.086229</td>\n",
              "    </tr>\n",
              "    <tr>\n",
              "      <th>1</th>\n",
              "      <td>5</td>\n",
              "      <td>8.388628</td>\n",
              "    </tr>\n",
              "    <tr>\n",
              "      <th>2</th>\n",
              "      <td>15</td>\n",
              "      <td>8.368038</td>\n",
              "    </tr>\n",
              "    <tr>\n",
              "      <th>3</th>\n",
              "      <td>16</td>\n",
              "      <td>8.511027</td>\n",
              "    </tr>\n",
              "    <tr>\n",
              "      <th>4</th>\n",
              "      <td>17</td>\n",
              "      <td>8.135622</td>\n",
              "    </tr>\n",
              "  </tbody>\n",
              "</table>\n",
              "</div>"
            ],
            "text/plain": [
              "   id    target\n",
              "0   0  8.086229\n",
              "1   5  8.388628\n",
              "2  15  8.368038\n",
              "3  16  8.511027\n",
              "4  17  8.135622"
            ]
          },
          "metadata": {},
          "execution_count": 9
        }
      ]
    },
    {
      "cell_type": "code",
      "metadata": {
        "colab": {
          "base_uri": "https://localhost:8080/"
        },
        "id": "I3SNaGt63xkD",
        "outputId": "d2938b16-4787-4f90-e439-e530c722011c"
      },
      "source": [
        "sub.to_csv(\"submission_2.csv\", index = False)\n",
        "print(\"Sent\")"
      ],
      "execution_count": 10,
      "outputs": [
        {
          "output_type": "stream",
          "text": [
            "Sent\n"
          ],
          "name": "stdout"
        }
      ]
    },
    {
      "cell_type": "code",
      "metadata": {
        "id": "dOm5Yq8w5PDw"
      },
      "source": [
        ""
      ],
      "execution_count": null,
      "outputs": []
    }
  ]
}